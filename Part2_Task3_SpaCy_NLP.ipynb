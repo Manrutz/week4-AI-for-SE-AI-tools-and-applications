{
  "cells": [
    {
      "cell_type": "markdown",
      "metadata": {},
      "source": [
        "# Part 2 - Task 3: NLP with spaCy (Laptop Reviews)\n",
        "**Goal:** Perform Named Entity Recognition (extract product names & brands) and perform rule-based sentiment analysis.\n"
      ]
    },
    {
      "cell_type": "code",
      "metadata": {},
      "source": [
        "!pip install -q spacy\n",
        "!python -m spacy download en_core_web_sm\n",
        "!pip install -q vaderSentiment\n",
        "\n",
        "import spacy\n",
        "from spacy.matcher import PhraseMatcher\n",
        "import pandas as pd\n",
        "from vaderSentiment.vaderSentiment import SentimentIntensityAnalyzer\n",
        "nlp = spacy.load(\"en_core_web_sm\")\n",
        "analyzer = SentimentIntensityAnalyzer()\n"
      ]
    },
    {
      "cell_type": "code",
      "metadata": {},
      "source": [
        "from google.colab import files\n",
        "import io\n",
        "print(\"If you have 'laptop_reviews.csv', upload it now. Otherwise the sample will be used.\")\n",
        "uploaded = files.upload()\n",
        "if 'laptop_reviews.csv' in uploaded:\n",
        "    df = pd.read_csv(io.BytesIO(uploaded['laptop_reviews.csv']))\n",
        "else:\n",
        "    data = {\n",
        "        \"review_text\": [\n",
        "            \"I recently bought a Dell XPS 13 and the battery life is amazing. Highly recommend!\",\n",
        "            \"The MacBook Pro keyboard keeps failing after only a month. Very disappointed.\",\n",
        "            \"HP Pavilion gives good value for money. Performance is decent but fan is noisy.\",\n",
        "            \"Acer Aspire is lightweight and great for travel, battery could be better though.\",\n",
        "            \"Lenovo ThinkPad has an excellent keyboard and robust build. Great business laptop.\"\n",
        "        ]\n",
        "    }\n",
        "    df = pd.DataFrame(data)\n",
        "df.head()\n"
      ]
    },
    {
      "cell_type": "code",
      "metadata": {},
      "source": [
        "def extract_entities(text):\n",
        "    doc = nlp(text)\n",
        "    ents = [(ent.text, ent.label_) for ent in doc.ents]\n",
        "    return ents\n",
        "df['entities'] = df['review_text'].apply(extract_entities)\n",
        "df[['review_text','entities']].head(10)\n"
      ]
    },
    {
      "cell_type": "code",
      "metadata": {},
      "source": [
        "brands = [\"Dell\", \"Apple\", \"MacBook\", \"MacBook Pro\", \"HP\", \"Acer\", \"Lenovo\", \"ThinkPad\", \"Aspire\", \"XPS\", \"Pavilion\"]\n",
        "matcher = PhraseMatcher(nlp.vocab, attr=\"LOWER\")\n",
        "patterns = [nlp.make_doc(b) for b in brands]\n",
        "matcher.add(\"BRAND\", patterns)\n",
        "def extract_brand_phrases(text):\n",
        "    doc = nlp(text)\n",
        "    matches = matcher(doc)\n",
        "    found = set()\n",
        "    for match_id, start, end in matches:\n",
        "        found.add(doc[start:end].text)\n",
        "    return list(found)\n",
        "df['brands'] = df['review_text'].apply(extract_brand_phrases)\n",
        "df[['review_text','entities','brands']].head(10)\n"
      ]
    },
    {
      "cell_type": "code",
      "metadata": {},
      "source": [
        "def vader_sentiment(text):\n",
        "    score = analyzer.polarity_scores(text)['compound']\n",
        "    if score >= 0.05:\n",
        "        return 'positive'\n",
        "    elif score <= -0.05:\n",
        "        return 'negative'\n",
        "    else:\n",
        "        return 'neutral'\n",
        "df['sentiment'] = df['review_text'].apply(vader_sentiment)\n",
        "df[['review_text','brands','sentiment']].head(10)\n"
      ]
    },
    {
      "cell_type": "code",
      "metadata": {},
      "source": [
        "print(\"Sentiment distribution:\\n\", df['sentiment'].value_counts())\n",
        "print(\"\\nBrand mentions sample:\\n\", df.explode('brands')[['brands','review_text']].dropna().head(10))\n"
      ]
    },
    {
      "cell_type": "markdown",
      "metadata": {},
      "source": [
        "**Screenshot instructions for report:**\n\n- Table showing sample reviews with `brands`, `entities`, and `sentiment`.\n- Counts of sentiment distribution.\n"
      ]
    }
  ],
  "metadata": {
    "kernelspec": {
      "display_name": "Python 3",
      "language": "python",
      "name": "python3"
    },
    "language_info": {
      "name": "python",
      "version": "3.x"
    }
  },
  "nbformat": 4,
  "nbformat_minor": 5
}