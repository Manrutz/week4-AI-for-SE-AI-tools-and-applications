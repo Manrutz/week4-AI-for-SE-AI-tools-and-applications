
{
 "cells": [
  {
   "cell_type": "markdown",
   "metadata": {},
   "source": [
    "# Part 2 - Task 3: NLP with spaCy (Amazon Laptop Reviews)\n",
    "### Created by Remmy Kipruto\n",
    "#### AI Tools & Applications Assignment\n",
    "\n",
    "This notebook demonstrates Natural Language Processing (NLP) using **spaCy** on the **Amazon Laptop Reviews dataset** (from Kaggle).\n",
    "\n",
    "**Goal:**\n",
    "- Perform Named Entity Recognition (NER) to extract product names and brands.\n",
    "- Apply rule-based sentiment analysis (Positive / Negative).\n",
    "\n",
    "📊 **Dataset Link:** [Amazon Laptop Reviews - Kaggle](https://www.kaggle.com/datasets/PromptCloudHQ/amazon-laptop-reviews)"
   ]
  },
  {
   "cell_type": "code",
   "execution_count": null,
   "metadata": {},
   "outputs": [],
   "source": [
    "# Install and import necessary libraries\n",
    "!pip install spacy pandas textblob --quiet\n",
    "import spacy\n",
    "import pandas as pd\n",
    "from textblob import TextBlob\n",
    "\n",
    "print('Libraries installed and imported successfully!')"
   ]
  },
  {
   "cell_type": "code",
   "execution_count": null,
   "metadata": {},
   "outputs": [],
   "source": [
    "# Load small English spaCy model\n",
    "!python -m spacy download en_core_web_sm --quiet\n",
    "nlp = spacy.load('en_core_web_sm')\n",
    "print('spaCy model loaded successfully!')"
   ]
  },
  {
   "cell_type": "code",
   "execution_count": null,
   "metadata": {},
   "outputs": [],
   "source": [
    "# Load dataset (Kaggle CSV or sample data)\n",
    "url = 'https://raw.githubusercontent.com/amankharwal/Website-data/master/amazon%20reviews%20laptops.csv'\n",
    "df = pd.read_csv(url)\n",
    "df = df[['review_text']].dropna().head(10)  # limit to 10 samples for quick demo\n",
    "df.head()"
   ]
  },
  {
   "cell_type": "code",
   "execution_count": null,
   "metadata": {},
   "outputs": [],
   "source": [
    "# Perform Named Entity Recognition (NER)\n",
    "def extract_entities(text):\n",
    "    doc = nlp(text)\n",
    "    return [(ent.text, ent.label_) for ent in doc.ents]\n",
    "\n",
    "df['entities'] = df['review_text'].apply(extract_entities)\n",
    "df[['review_text', 'entities']].head()"
   ]
  },
  {
   "cell_type": "code",
   "execution_count": null,
   "metadata": {},
   "outputs": [],
   "source": [
    "# Rule-based Sentiment Analysis using TextBlob\n",
    "def analyze_sentiment(text):\n",
    "    polarity = TextBlob(text).sentiment.polarity\n",
    "    if polarity > 0:\n",
    "        return 'Positive'\n",
    "    elif polarity < 0:\n",
    "        return 'Negative'\n",
    "    else:\n",
    "        return 'Neutral'\n",
    "\n",
    "df['sentiment'] = df['review_text'].apply(analyze_sentiment)\n",
    "df[['review_text', 'sentiment']].head()"
   ]
  },
  {
   "cell_type": "code",
   "execution_count": null,
   "metadata": {},
   "outputs": [],
   "source": [
    "# Display final structured results\n",
    "for index, row in df.iterrows():\n",
    "    print(f'Review: {row["review_text"][:100]}...')\n",
    "    print(f'Entities: {row["entities"]}')\n",
    "    print(f'Sentiment: {row["sentiment"]}\n')"
   ]
  },
  {
   "cell_type": "markdown",
   "metadata": {},
   "source": [
    "### ✅ Summary\n",
    "- Extracted named entities (product names, brands) using spaCy.\n",
    "- Applied simple sentiment analysis with TextBlob.\n",
    "- Demonstrated rule-based NLP workflow.\n",
    "\n",
    "📌 This notebook highlights how spaCy can efficiently handle text analytics tasks in AI projects."
   ]
  }
 ],
 "metadata": {
  "kernelspec": {
   "display_name": "Python 3",
   "language": "python",
   "name": "python3"
  },
  "language_info": {
   "name": "python",
   "version": "3.9"
  }
 },
 "nbformat": 4,
 "nbformat_minor": 5
}
